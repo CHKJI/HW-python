{
  "nbformat": 4,
  "nbformat_minor": 0,
  "metadata": {
    "colab": {
      "provenance": []
    },
    "kernelspec": {
      "name": "python3",
      "display_name": "Python 3"
    },
    "language_info": {
      "name": "python"
    }
  },
  "cells": [
    {
      "cell_type": "markdown",
      "source": [
        "**중간고사_문제1_지창욱 박사과정 2023236046**\n",
        "1. 키와 몸무게를 입력하면 BMI를 계산하는 프로그램을 작성하시오 \n"
      ],
      "metadata": {
        "id": "WlZA-tEtlpcX"
      }
    },
    {
      "cell_type": "markdown",
      "source": [
        "(**조건1** : 반복문을 사용해서 계속 몸무게/키를 입력,\n",
        "**조건2** : 종료는 -1000을 입력하면 종료)"
      ],
      "metadata": {
        "id": "BE6H0ikumB-E"
      }
    },
    {
      "cell_type": "code",
      "source": [
        "print(\"BMI 계산기 입니다. \\n* 몸무게(kg)과 키(mm)를 입력해주세요.\\n* -1000을 입력하면 계산기가 종료 됩니다.\\n\\n\")      # 계산기 안내 내용\n",
        "while True:                                                                      # 무한 루프를 사용하여 프로그램이 종료될 때까지 반복하도록 함\n",
        "    weight = float(input(\"몸무게(kg) : \"))                                       # 몸 무게에 대한 실수 값 kg을 사용자로 부터 받아서 weight 변수에 데이터를 넣음 \n",
        "    if weight == -1000:                                                          # weight변수가 -1000과 같을때 무한 루프문에서 바져 나오기 위한 조건문 진행 \n",
        "        break                                                                    # 무한 루프문을 빠져 나오기 위한 Break \n",
        "    height = float(input(\"키(mm) : \")) * 0.01                                    # 키에 대한 실수 값 mm을 사용자로 부터 받아서 BMI의 m 단위로 환산한 다음 hight 변수에 데이터를 넣음 \n",
        "    if height == -1000:                                                          # hight변수가 -1000과 같을때 무한 루프문에서 바져 나오기 위한 조건문 진행\n",
        "        break                                                                    # 무한 루프문을 빠져 나오기 위한 Break \n",
        "    \n",
        "    bmi = weight / (height ** 2)                                                 # weight(kg)에서 height(m)제곱을 나누어서 bmi 변수에 데이터를 넣음 \n",
        "    print(\"BMI : %.2f\" % bmi)                                                    # 소수점 2째 자리까지 출력 할 수 있게 함 \"%.2f\" 포멧코드 사용"
      ],
      "metadata": {
        "colab": {
          "base_uri": "https://localhost:8080/"
        },
        "id": "eYSMLoBclzq5",
        "outputId": "14f1f7ca-3469-4dd7-bc8d-3999c735ddbc"
      },
      "execution_count": 14,
      "outputs": [
        {
          "name": "stdout",
          "output_type": "stream",
          "text": [
            "BMI 계산기 입니다. \n",
            "* 몸무게(kg)과 키(mm)를 입력해주세요.\n",
            "* -1000을 입력하면 계산기가 종료 됩니다.\n",
            "\n",
            "\n",
            "몸무게(kg) : 86\n",
            "키(mm) : 182\n",
            "BMI : 25.96\n",
            "몸무게(kg) : 50\n",
            "키(mm) : 168\n",
            "BMI : 17.72\n",
            "몸무게(kg) : -1000\n"
          ]
        }
      ]
    },
    {
      "cell_type": "markdown",
      "source": [
        "2. 숫자 2개를 입력받아서 큰수와 작은수를 차례로 출력하는 프로그램을 작성하시오"
      ],
      "metadata": {
        "id": "SXXLYFunur3t"
      }
    },
    {
      "cell_type": "markdown",
      "source": [
        "**조건1 :** 반복문을 사용해서 계속 몸무게/키를 입력, **조건2 :** 종료는  0을 두번 입력하면 종료 => **몸무게, 키를 숫자1과 숫자2로 진행함**"
      ],
      "metadata": {
        "id": "letKKe07uueo"
      }
    },
    {
      "cell_type": "code",
      "source": [
        "print(\"숫자 2개를 입력하면 큰수, 작은수 순서로 정리해줍니다.\\n* 숫자1과 숫자2에 0을 넣으면 프로그램이 종료 됩니다.\\n\\n\")       # 안내 내용\n",
        "\n",
        "while True:                                                                                  # 무한 루프를 사용하여 프로그램이 종료될 때까지 반복하도록 함\n",
        "    Val1 = float(input(\"숫자1 : \"))                                                          # 숫자1에 대한 실수값을 받아서 Val1 변수어 넣음\n",
        "    Val2 = float(input(\"숫자2 : \"))                                                          # 숫자2에 대한 실수값을 받아서 Val2 변수어 넣음\n",
        "    if Val1 == 0 and Val2 == 0:                                                              # 두 숫자가 0이 될 때 프로그램을 종료하기위한 조건문   \n",
        "      print(\"프로그램을 종료합니다.\")                                                        # 프로그램 종료 알림\n",
        "      break                                                                                  # 무한 루프문을 빠져 나오기 위한 Break\n",
        "\n",
        "    print(\"큰 숫자 다음으로 작은 숫자가 나오게 재정리하면 아래와 같습니다.\")                 # 안내 내용\n",
        "\n",
        "    if Val1 > Val2:                                                                          # 숫자1이 숫자2보다 클때 출력되는 순서\n",
        "        print(\"숫자1 :\",f\"{Val1:g}\", \"   숫자2:\",f\"{Val2:g}\")                                # 숫자1 다음 숫자2가 출력되도록 함 // 입력한 실수값이 그대로 나올 수 있게 f-string의 g을 사용함 \n",
        "        print(\"\\n\\n\")                                                                        # 줄 띄어쓰기  \n",
        "    if Val1 == Val2:                                                                         # 숫자1과 숫자2가 같을 경우 별도 표시\n",
        "        print(\"숫자1 :\",f\"{Val1:g}\",\"과\",\"숫자2:\",f\"{Val2:g}\", \"의 크기가 같습니다.\")        # 숫자1과 숫자2가 같다고 표현함\n",
        "        print(\"\\n\\n\")                                                                        # 줄 띄어쓰기         \n",
        "    if Val1 < Val2:                                                                          # 숫자1이 숫자2보다 작을때 출력되는 순서\n",
        "        print(\"숫자2 :\",f\"{Val2:g}\", \"   숫자1:\",f\"{Val1:g}\")                                # 숫자2 다음 숫자1이 출력되도록 함 // 입력한 실수값이 그대로 나올 수 있게 f-string의 g를 사용함 \n",
        "        print(\"\\n\\n\")                                                                        # 줄 띄어쓰기  "
      ],
      "metadata": {
        "colab": {
          "base_uri": "https://localhost:8080/"
        },
        "id": "ejLURKFioQwD",
        "outputId": "2d1e7b94-54cf-446d-ca76-255b04cab1bc"
      },
      "execution_count": 63,
      "outputs": [
        {
          "output_type": "stream",
          "name": "stdout",
          "text": [
            "숫자 2개를 입력하면 큰수, 작은수 순서로 정리해줍니다.\n",
            "* 숫자1과 숫자2에 0을 넣으면 프로그램이 종료 됩니다.\n",
            "\n",
            "\n",
            "숫자1 : 10\n",
            "숫자2 : 20\n",
            "큰 숫자 다음으로 작은 숫자가 나오게 재정리하면 아래와 같습니다.\n",
            "숫자2 : 20    숫자1: 10\n",
            "\n",
            "\n",
            "\n",
            "숫자1 : 40\n",
            "숫자2 : 30\n",
            "큰 숫자 다음으로 작은 숫자가 나오게 재정리하면 아래와 같습니다.\n",
            "숫자1 : 40    숫자2: 30\n",
            "\n",
            "\n",
            "\n",
            "숫자1 : 10\n",
            "숫자2 : 10\n",
            "큰 숫자 다음으로 작은 숫자가 나오게 재정리하면 아래와 같습니다.\n",
            "숫자1 : 10 과 숫자2: 10 의 크기가 같습니다.\n",
            "\n",
            "\n",
            "\n",
            "숫자1 : 0\n",
            "숫자2 : 0\n",
            "프로그램을 종료합니다.\n"
          ]
        }
      ]
    },
    {
      "cell_type": "markdown",
      "source": [
        "2. 등수 순서대로 이름 점수를 정리하는 프로그램"
      ],
      "metadata": {
        "id": "FaNzAx_v53oH"
      }
    },
    {
      "cell_type": "markdown",
      "source": [
        "**조건1 :** 10명의 학생 이름과 점수를 입력받아 등수를 계산, **조건2 :** 출력 시에는 이름, 점수를 등수 순서대로 출력"
      ],
      "metadata": {
        "id": "gTraOB6S53oH"
      }
    },
    {
      "cell_type": "code",
      "source": [
        "print(\"10명의 학생 이름과 점수를 기입해주세요.\\n\\n\")                                 # 안내 내용\n",
        "num_student = 10                                                                     # 학생 수 입력 받기\n",
        "\n",
        "student = {}                                                                         # 학생 이름과 점수를 저장할 딕셔너리 생성\n",
        "\n",
        "for i in range(num_student):                                                         # 학생수에 대해 range 함수로 num_student 정수 범위를 생성하고 for루프로 정수 범위만큼 반복작업을 진행 // i 는 반복되는 정수 범위를 저장하기 위한 변수\n",
        "    name = input(\"학생 이름: \")                                                      # 학생이름을 받아서 name 변수에 저장\n",
        "    score = float(input(f\"{name}의 학생 점수: \"))                                    # 학생점수를 실수 값으로 받아서 score에 저장 \n",
        "    student[name] = score                                                            # student 딕셔너리에 name 변수를 Key 로 하고 score를 변수로 하여 데이터를 저장\n",
        "\n",
        "print(\"\\n\\n\")                                                                        # 안내 내용 구분\n",
        "\n",
        "sorted_student = sorted(student.items(), key=lambda x: x[1], reverse=True)           # 점수를 내림 차순으로 정렬 // dtudent.items()를 이용하여 (이름,점수)쌍의 리스트 생성 ex) student = {'민수': 85, '정은': 90, '수영': 80}// lamda함수로 key인자 점수를 나타내는 x[1] 지정 // 내림차순으로 reverse=True 설정\n",
        "\n",
        "rank = 1                                                                             # 1등 부터 진행하기 위해 등수를 1부터 선정\n",
        "for i in range(len(sorted_student)):                                                 #'len'함수를 이용하여 sorted_student의 리스트 길이를 구함 // range 함수의 인자로 전달해 정수 범위 생성 // i 는 반복되는 정수 범위를 저장하기 위한 변수\n",
        "    name = sorted_student[i][0]                                                      # sorted_student[i]는 i번째 항목의 (이름, 점수)형태의 튜플 // [0]은 튜플에서 이름을 구분하기 위해 고정 // 이름값을 추출하여 name에 다시 저장\n",
        "    score = sorted_student[i][1]                                                     # sorted_student[i]는 i번째 항목의 (이름, 점수)형태의 튜플 // [1]은 튜플에서 점수을 구분하기 위해 고정 // 점수값을 추출하여 score에 다시 저장\n",
        "    print(f\"{rank}등: {name}, {score:g}점\")                                          # 결과값을 구분하여 결과 도출 // 기입한 점수 그래돌 표현하기 위해 f-string의 g를 사용함 \n",
        "    if i < len(sorted_student) - 1 and score != sorted_student[i+1][1]:              # 현재 학생점수와 다음 학생점수가 서로 다를 경우에만 점수를 증가 시킴 // i < len(sorted_student) - 1 마지막 학생이 아닐때 // 마지막 학생이라면 sorted_student[i+1]은 리스트의 범위를 벗어나게 되므로 이를 방지하기 위한 조건 필요\n",
        "                                                                                     # score != sorted_student[i+1][1]는 현재 학생의 점수와 다음 학생의 점수가 다를 때를 의미 현재 학생과 다음 학생의 점수가 같으면, 두 학생의 등수는 동일해야 하기 때문에 등수를 증가시키지 않음\n",
        "        rank = i + 2                                                                 # 학생의 등수를 나타내는 변수 rank = i + 2에서 2를 더하는 이유는, 첫 번째 학생의 등수를 1로 설정하기 위함, i가 0일때 rank는 2가 되어야함"
      ],
      "metadata": {
        "colab": {
          "base_uri": "https://localhost:8080/"
        },
        "id": "wbfChMDg51Y8",
        "outputId": "bfd3c457-6fdc-4b48-bf2d-0fb2dd021867"
      },
      "execution_count": 80,
      "outputs": [
        {
          "output_type": "stream",
          "name": "stdout",
          "text": [
            "10명의 학생 이름과 점수를 기입해주세요.\n",
            "\n",
            "\n",
            "학생 이름: 임소영\n",
            "임소영의 학생 점수: 21\n",
            "학생 이름: 지창욱\n",
            "지창욱의 학생 점수: 100\n",
            "학생 이름: 이정은\n",
            "이정은의 학생 점수: 54\n",
            "학생 이름: 박하영\n",
            "박하영의 학생 점수: 35\n",
            "학생 이름: 이철웅\n",
            "이철웅의 학생 점수: 54\n",
            "학생 이름: 이민혁\n",
            "이민혁의 학생 점수: 84\n",
            "학생 이름: 김선진\n",
            "김선진의 학생 점수: 3\n",
            "학생 이름: 우수진\n",
            "우수진의 학생 점수: 42\n",
            "학생 이름: 도영주\n",
            "도영주의 학생 점수: 33\n",
            "학생 이름: 홍길동\n",
            "홍길동의 학생 점수: 32\n",
            "\n",
            "\n",
            "\n",
            "1등: 지창욱, 100점\n",
            "2등: 이민혁, 84점\n",
            "3등: 이정은, 54점\n",
            "3등: 이철웅, 54점\n",
            "5등: 우수진, 42점\n",
            "6등: 박하영, 35점\n",
            "7등: 도영주, 33점\n",
            "8등: 홍길동, 32점\n",
            "9등: 임소영, 21점\n",
            "10등: 김선진, 3점\n"
          ]
        }
      ]
    }
  ]
}