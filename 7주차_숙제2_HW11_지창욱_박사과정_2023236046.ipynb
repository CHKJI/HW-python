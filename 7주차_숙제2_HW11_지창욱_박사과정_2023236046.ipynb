{
  "nbformat": 4,
  "nbformat_minor": 0,
  "metadata": {
    "colab": {
      "provenance": []
    },
    "kernelspec": {
      "name": "python3",
      "display_name": "Python 3"
    },
    "language_info": {
      "name": "python"
    }
  },
  "cells": [
    {
      "cell_type": "markdown",
      "source": [
        "7주차 숙제2_HW11_지창욱 박사과정 2023236046\n",
        "\n"
      ],
      "metadata": {
        "id": "UIrkynFvaNJR"
      }
    },
    {
      "cell_type": "markdown",
      "metadata": {
        "id": "ZIcs4ZTDbl2J"
      },
      "source": [
        "<h2 id=\"write\">Writing Files</h2>"
      ]
    },
    {
      "cell_type": "code",
      "metadata": {
        "id": "aYKRvAC-bxwU",
        "colab": {
          "base_uri": "https://localhost:8080/"
        },
        "outputId": "3bfe6e3a-0266-4161-d6db-8fd9459cbf1c"
      },
      "source": [
        "from google.colab import drive\n",
        "drive.mount('/content/gdrive')"
      ],
      "execution_count": 1,
      "outputs": [
        {
          "output_type": "stream",
          "name": "stdout",
          "text": [
            "Mounted at /content/gdrive\n"
          ]
        }
      ]
    },
    {
      "cell_type": "code",
      "metadata": {
        "id": "vZSTGB0Nbl2L"
      },
      "source": [
        "# Write line to file\n",
        "\n",
        "with open('/content/gdrive/My Drive/HW7/test1.txt', 'w') as writefile:\n",
        "    writefile.write(\"I can do it\")"
      ],
      "execution_count": 6,
      "outputs": []
    },
    {
      "cell_type": "code",
      "metadata": {
        "id": "9rKLqRV4bl2P",
        "colab": {
          "base_uri": "https://localhost:8080/"
        },
        "outputId": "e97d7d59-d635-4509-e831-2bcee5d6a2bf"
      },
      "source": [
        "# Read file\n",
        "\n",
        "with open('/content/gdrive/My Drive/HW7/test1.txt', 'r') as testwritefile:\n",
        "    print(testwritefile.read())"
      ],
      "execution_count": 7,
      "outputs": [
        {
          "output_type": "stream",
          "name": "stdout",
          "text": [
            "I can do it\n"
          ]
        }
      ]
    },
    {
      "cell_type": "code",
      "metadata": {
        "id": "FJgIdzzIbl2S"
      },
      "source": [
        "# Write lines to file\n",
        "\n",
        "with open('/content/gdrive/My Drive/HW7/test1.txt', 'w') as writefile:\n",
        "    writefile.write(\"I can do it\\n\")\n",
        "    writefile.write(\"Just do it\\n\")\n",
        "    writefile.write(\"Always do it\\n\")"
      ],
      "execution_count": 8,
      "outputs": []
    },
    {
      "cell_type": "code",
      "metadata": {
        "id": "EQBM_Ynabl2W",
        "colab": {
          "base_uri": "https://localhost:8080/"
        },
        "outputId": "a41daa19-014f-4156-e330-ab31ceace024"
      },
      "source": [
        "# Check whether write to file\n",
        "\n",
        "with open('/content/gdrive/My Drive/HW7/test1.txt', 'r') as testwritefile:\n",
        "    print(testwritefile.read())"
      ],
      "execution_count": 9,
      "outputs": [
        {
          "output_type": "stream",
          "name": "stdout",
          "text": [
            "I can do it\n",
            "Just do it\n",
            "Always do it\n",
            "\n"
          ]
        }
      ]
    },
    {
      "cell_type": "code",
      "metadata": {
        "id": "lO4FG7G0bl2Z"
      },
      "source": [
        "# Write a new line to text file\n",
        "\n",
        "with open('/content/gdrive/My Drive/HW7/test2.txt', 'a') as testwritefile:\n",
        "    testwritefile.write(\"Have passion\\n\")"
      ],
      "execution_count": 10,
      "outputs": []
    },
    {
      "cell_type": "code",
      "metadata": {
        "id": "QR21o9UVbl2c",
        "colab": {
          "base_uri": "https://localhost:8080/"
        },
        "outputId": "830e4622-a5f1-44d7-d8dc-42588ea9f830"
      },
      "source": [
        "# Verify if the new line is in the text file\n",
        "\n",
        "with open('/content/gdrive/My Drive/HW7/test2.txt', 'r') as testwritefile:\n",
        "    print(testwritefile.read())"
      ],
      "execution_count": 11,
      "outputs": [
        {
          "output_type": "stream",
          "name": "stdout",
          "text": [
            "Have passion\n",
            "\n"
          ]
        }
      ]
    },
    {
      "cell_type": "code",
      "metadata": {
        "id": "0DSXx_v1bl2f",
        "colab": {
          "base_uri": "https://localhost:8080/"
        },
        "outputId": "fde69aba-d893-49ff-a7cc-749873023e35"
      },
      "source": [
        "# Sample list of text\n",
        "\n",
        "passion = [\"I can do it!!\\n\", \"Just do it!!\\n\", \"Always do it!!\\n\"]\n",
        "passion"
      ],
      "execution_count": 26,
      "outputs": [
        {
          "output_type": "execute_result",
          "data": {
            "text/plain": [
              "['I can do it!!\\n', 'Just do it!!\\n', 'Always do it!!\\n']"
            ]
          },
          "metadata": {},
          "execution_count": 26
        }
      ]
    },
    {
      "cell_type": "code",
      "metadata": {
        "id": "DB55tALYbl2h",
        "colab": {
          "base_uri": "https://localhost:8080/"
        },
        "outputId": "039aa7d2-0905-4fe8-820b-cb5d0b06faf2"
      },
      "source": [
        "# Write the strings in the list to text file\n",
        "\n",
        "with open('/content/gdrive/My Drive/HW7/test3.txt', 'w') as writefile:\n",
        "    for p in passion:\n",
        "        print(p)\n",
        "        writefile.write(p)"
      ],
      "execution_count": 27,
      "outputs": [
        {
          "output_type": "stream",
          "name": "stdout",
          "text": [
            "I can do it!!\n",
            "\n",
            "Just do it!!\n",
            "\n",
            "Always do it!!\n",
            "\n"
          ]
        }
      ]
    },
    {
      "cell_type": "code",
      "metadata": {
        "id": "VkvMQbG0bl2l",
        "colab": {
          "base_uri": "https://localhost:8080/"
        },
        "outputId": "09ef0bf5-0891-46d7-d848-7bcf65ba1db9"
      },
      "source": [
        "# Verify if writing to file is successfully executed\n",
        "\n",
        "with open('/content/gdrive/My Drive/HW7/test3.txt', 'r') as testwritefile:\n",
        "    print(testwritefile.read())"
      ],
      "execution_count": 28,
      "outputs": [
        {
          "output_type": "stream",
          "name": "stdout",
          "text": [
            "I can do it!!\n",
            "Just do it!!\n",
            "Always do it!!\n",
            "\n"
          ]
        }
      ]
    },
    {
      "cell_type": "code",
      "metadata": {
        "id": "pckArKDibl2o"
      },
      "source": [
        "# Append the line to the file\n",
        "\n",
        "with open('/content/gdrive/My Drive/HW7/test3.txt', 'a') as testwritefile:\n",
        "    testwritefile.write(\"Have FUN\\n\")"
      ],
      "execution_count": 29,
      "outputs": []
    },
    {
      "cell_type": "code",
      "metadata": {
        "id": "tijFPWqHbl2q",
        "colab": {
          "base_uri": "https://localhost:8080/"
        },
        "outputId": "e5b944b2-21ad-4331-fa64-8ee8caa9d970"
      },
      "source": [
        "# Verify if the appending is successfully executed\n",
        "\n",
        "with open('/content/gdrive/My Drive/HW7/test3.txt', 'r') as testwritefile:\n",
        "    print(testwritefile.read())"
      ],
      "execution_count": 30,
      "outputs": [
        {
          "output_type": "stream",
          "name": "stdout",
          "text": [
            "I can do it!!\n",
            "Just do it!!\n",
            "Always do it!!\n",
            "Have FUN\n",
            "\n"
          ]
        }
      ]
    },
    {
      "cell_type": "markdown",
      "metadata": {
        "id": "5mndIszabl2s"
      },
      "source": [
        "<h2 id=\"copy\">Copy a File</h2> "
      ]
    },
    {
      "cell_type": "code",
      "metadata": {
        "id": "lxgmlnnMbl2t"
      },
      "source": [
        "# Copy file to another\n",
        "\n",
        "with open('/content/gdrive/My Drive/HW7/test3.txt','r') as readfile:\n",
        "    with open('/content/gdrive/My Drive/HW7/test4.txt','w') as writefile:\n",
        "          for p in readfile:\n",
        "                writefile.write(p)"
      ],
      "execution_count": 31,
      "outputs": []
    },
    {
      "cell_type": "code",
      "metadata": {
        "id": "HIVsEvjbbl2x",
        "colab": {
          "base_uri": "https://localhost:8080/"
        },
        "outputId": "e4c1402a-9c03-412a-a2f1-f9bfb654f011"
      },
      "source": [
        "# Verify if the copy is successfully executed\n",
        "\n",
        "with open('/content/gdrive/My Drive/HW7/test4.txt','r') as testwritefile:\n",
        "    print(testwritefile.read())"
      ],
      "execution_count": 32,
      "outputs": [
        {
          "output_type": "stream",
          "name": "stdout",
          "text": [
            "I can do it!!\n",
            "Just do it!!\n",
            "Always do it!!\n",
            "Have FUN\n",
            "\n"
          ]
        }
      ]
    }
  ]
}