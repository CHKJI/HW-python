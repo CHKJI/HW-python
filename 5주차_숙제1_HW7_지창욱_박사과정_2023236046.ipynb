{
  "nbformat": 4,
  "nbformat_minor": 0,
  "metadata": {
    "colab": {
      "provenance": []
    },
    "kernelspec": {
      "name": "python3",
      "display_name": "Python 3"
    },
    "language_info": {
      "name": "python"
    }
  },
  "cells": [
    {
      "cell_type": "markdown",
      "metadata": {
        "id": "yxfGHiYiLawP"
      },
      "source": [
        "<h2 id=\"quiz\">Quiz on Loops</h2>"
      ]
    },
    {
      "cell_type": "markdown",
      "metadata": {
        "id": "ZHGYe8j5LawQ"
      },
      "source": [
        "Write a <code>for</code> loop the prints out all the element between <b>-5</b> and <b>5</b> using the range function."
      ]
    },
    {
      "cell_type": "code",
      "metadata": {
        "id": "QIXNfubLLawQ",
        "colab": {
          "base_uri": "https://localhost:8080/"
        },
        "outputId": "60a768bc-2521-43cc-d703-b2d8a9e8c57d"
      },
      "source": [
        "# Write your code below and press Shift+Enter to execute\n",
        "# 지창욱 박사과정 2023236046\n",
        "\n",
        "for a in range(-5,6):\n",
        "    print(a)\n",
        "\n"
      ],
      "execution_count": 1,
      "outputs": [
        {
          "output_type": "stream",
          "name": "stdout",
          "text": [
            "-5\n",
            "-4\n",
            "-3\n",
            "-2\n",
            "-1\n",
            "0\n",
            "1\n",
            "2\n",
            "3\n",
            "4\n",
            "5\n"
          ]
        }
      ]
    },
    {
      "cell_type": "markdown",
      "metadata": {
        "id": "2leKrJ-OLawS"
      },
      "source": [
        "Double-click __here__ for the solution.\n",
        "<!-- \n",
        "for i in range(-5, 6):\n",
        "    print(i)\n",
        "-->"
      ]
    },
    {
      "cell_type": "markdown",
      "metadata": {
        "id": "lgt-lOBcLawT"
      },
      "source": [
        "Print the elements of the following list:\n",
        "<code>Genres=[ 'rock', 'R&B', 'Soundtrack', 'R&B', 'soul', 'pop']</code>\n",
        "Make sure you follow Python conventions."
      ]
    },
    {
      "cell_type": "code",
      "metadata": {
        "id": "y1P9DewULawT",
        "colab": {
          "base_uri": "https://localhost:8080/"
        },
        "outputId": "ce641726-4201-40df-e6ed-0c50f03efee0"
      },
      "source": [
        "# Write your code below and press Shift+Enter to execute\n",
        "# 지창욱 박사과정 2023236046\n",
        "\n",
        "Genres = ['rock', 'R&B', 'Soundtrack', 'R&B', 'soul', 'pop']\n",
        "for Genre in Genres:\n",
        "    print(Genre)"
      ],
      "execution_count": 2,
      "outputs": [
        {
          "output_type": "stream",
          "name": "stdout",
          "text": [
            "rock\n",
            "R&B\n",
            "Soundtrack\n",
            "R&B\n",
            "soul\n",
            "pop\n"
          ]
        }
      ]
    },
    {
      "cell_type": "markdown",
      "metadata": {
        "id": "jI1uHNwkLawV"
      },
      "source": [
        "Double-click __here__ for the solution.\n",
        "<!-- \n",
        "Genres = ['rock', 'R&B', 'Soundtrack', 'R&B', 'soul', 'pop']\n",
        "for Genre in Genres:\n",
        "    print(Genre)\n",
        "-->"
      ]
    },
    {
      "cell_type": "markdown",
      "metadata": {
        "id": "R8_dlBvrLawW"
      },
      "source": [
        "<hr>"
      ]
    },
    {
      "cell_type": "markdown",
      "metadata": {
        "id": "VUot42j7LawW"
      },
      "source": [
        "Write a for loop that prints out the following list: <code>squares=['red', 'yellow', 'green', 'purple', 'blue']</code>"
      ]
    },
    {
      "cell_type": "code",
      "metadata": {
        "id": "E0MCFnuqLawW",
        "colab": {
          "base_uri": "https://localhost:8080/"
        },
        "outputId": "83c3640f-4603-40fa-d8e9-320be56b0df9"
      },
      "source": [
        "# Write your code below and press Shift+Enter to execute\n",
        "# 지창욱 박사과정 2023236046\n",
        "\n",
        "squares=['red', 'yellow', 'green', 'purple', 'blue']\n",
        "for square in squares:\n",
        "    print(square)"
      ],
      "execution_count": 3,
      "outputs": [
        {
          "output_type": "stream",
          "name": "stdout",
          "text": [
            "red\n",
            "yellow\n",
            "green\n",
            "purple\n",
            "blue\n"
          ]
        }
      ]
    },
    {
      "cell_type": "markdown",
      "metadata": {
        "id": "eWchoPkCLawZ"
      },
      "source": [
        "Double-click __here__ for the solution.\n",
        "<!-- \n",
        "squares=['red', 'yellow', 'green', 'purple', 'blue']\n",
        "for square in squares:\n",
        "    print(square)\n",
        " -->"
      ]
    },
    {
      "cell_type": "markdown",
      "metadata": {
        "id": "9Yg-AQRxLawa"
      },
      "source": [
        "<hr>"
      ]
    },
    {
      "cell_type": "markdown",
      "metadata": {
        "id": "hnPtqt7_Lawa"
      },
      "source": [
        "Write a while loop to display the values of the Rating of an album playlist stored in the list <code>PlayListRatings</code>. If the score is less than 6, exit the loop. The list <code>PlayListRatings</code> is given by: <code>PlayListRatings = [10, 9.5, 10, 8, 7.5, 5, 10, 10]</code>"
      ]
    },
    {
      "cell_type": "code",
      "metadata": {
        "id": "5Kw0DO-ALawa",
        "colab": {
          "base_uri": "https://localhost:8080/"
        },
        "outputId": "5e8bf8d3-2de9-44f8-f701-26f949b1bf8a"
      },
      "source": [
        "# Write your code below and press Shift+Enter to execute\n",
        "# 지창욱 박사과정 2023236046\n",
        "\n",
        "PlayListRatings = [10, 9.5, 10, 8, 7.5, 5, 10, 10]\n",
        "b = 1\n",
        "\n",
        "c = PlayListRatings[0]\n",
        "\n",
        "while(c >= 6):\n",
        "    print(c)\n",
        "    c = PlayListRatings[b]\n",
        "    b = b + 1"
      ],
      "execution_count": 4,
      "outputs": [
        {
          "output_type": "stream",
          "name": "stdout",
          "text": [
            "10\n",
            "9.5\n",
            "10\n",
            "8\n",
            "7.5\n"
          ]
        }
      ]
    },
    {
      "cell_type": "markdown",
      "metadata": {
        "id": "menasC9BLawd"
      },
      "source": [
        "Double-click __here__ for the solution.\n",
        "<!-- \n",
        "PlayListRatings = [10, 9.5, 10, 8, 7.5, 5, 10, 10]\n",
        "i = 1\n",
        "Rating = PlayListRatings[0]\n",
        "while(Rating >= 6):\n",
        "    print(Rating)\n",
        "    Rating = PlayListRatings[i]\n",
        "    i = i + 1\n",
        " -->"
      ]
    },
    {
      "cell_type": "markdown",
      "metadata": {
        "id": "v91g8dYeLawd"
      },
      "source": [
        "<hr>"
      ]
    },
    {
      "cell_type": "markdown",
      "metadata": {
        "id": "asUW74l8Lawe"
      },
      "source": [
        "Write a while loop to copy the strings <code>'orange'</code> of the list <code>squares</code> to the list <code>new_squares</code>. Stop and exit the loop if the value on the list is not <code>'orange'</code>:"
      ]
    },
    {
      "cell_type": "code",
      "metadata": {
        "id": "oIB8hw4mLawf",
        "colab": {
          "base_uri": "https://localhost:8080/"
        },
        "outputId": "f0851094-26f4-410a-cce1-4c28d0a4971c"
      },
      "source": [
        "# Write your code below and press Shift+Enter to execute\n",
        "# 지창욱 박사과정 2023236046\n",
        "\n",
        "squares = ['orange', 'orange', 'purple', 'blue ', 'orange']\n",
        "new_squares = []\n",
        "\n",
        "d = 0\n",
        "\n",
        "while(squares[d] == 'orange'):\n",
        "    new_squares.append(squares[d])\n",
        "    d = d + 1\n",
        "print (new_squares)\n",
        "\n",
        "\n"
      ],
      "execution_count": 5,
      "outputs": [
        {
          "output_type": "stream",
          "name": "stdout",
          "text": [
            "['orange', 'orange']\n"
          ]
        }
      ]
    },
    {
      "cell_type": "markdown",
      "metadata": {
        "id": "tSPVKaNxLawg"
      },
      "source": [
        "Double-click __here__ for the solution.\n",
        "<!-- \n",
        "squares = ['orange', 'orange', 'purple', 'blue ', 'orange']\n",
        "new_squares = []\n",
        "i = 0\n",
        "while(squares[i] == 'orange'):\n",
        "    new_squares.append(squares[i])\n",
        "    i = i + 1\n",
        "print (new_squares)\n",
        " -->"
      ]
    }
  ]
}