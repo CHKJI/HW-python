{
  "nbformat": 4,
  "nbformat_minor": 0,
  "metadata": {
    "colab": {
      "provenance": []
    },
    "kernelspec": {
      "name": "python3",
      "display_name": "Python 3"
    },
    "language_info": {
      "name": "python"
    }
  },
  "cells": [
    {
      "cell_type": "markdown",
      "source": [
        "7주차 숙제1_HW10_지창욱 박사과정 2023236046\n",
        "과제 수행 내역"
      ],
      "metadata": {
        "id": "Dp7q7JxDXSmH"
      }
    },
    {
      "cell_type": "markdown",
      "metadata": {
        "id": "xKoDVcw9YI0I"
      },
      "source": [
        "<h2 id=\"download\">Download Data</h2>"
      ]
    },
    {
      "cell_type": "code",
      "metadata": {
        "id": "-m4pzMiqYNvn",
        "colab": {
          "base_uri": "https://localhost:8080/"
        },
        "outputId": "a96ba024-54ce-4f0f-c5f7-b2bdbaf81f5d"
      },
      "source": [
        "#or use GDrive mounting method \n",
        "from google.colab import drive\n",
        "drive.mount('/content/gdrive')"
      ],
      "execution_count": 6,
      "outputs": [
        {
          "output_type": "stream",
          "name": "stdout",
          "text": [
            "Drive already mounted at /content/gdrive; to attempt to forcibly remount, call drive.mount(\"/content/gdrive\", force_remount=True).\n"
          ]
        }
      ]
    },
    {
      "cell_type": "markdown",
      "metadata": {
        "id": "PmiZ2iB3YI0N"
      },
      "source": [
        "<h2 id=\"read\">Reading Text Files</h2>"
      ]
    },
    {
      "cell_type": "code",
      "metadata": {
        "id": "W7vJLvx4YI0R"
      },
      "source": [
        "# Read the HW_7_1.txt\n",
        "\n",
        "HW7 = \"/content/gdrive/My Drive/HW7/HW7_1.txt\"\n",
        "HWfile = open(HW7, \"r\") "
      ],
      "execution_count": 26,
      "outputs": []
    },
    {
      "cell_type": "code",
      "metadata": {
        "id": "bBsi2y2YYI0U",
        "colab": {
          "base_uri": "https://localhost:8080/",
          "height": 35
        },
        "outputId": "68cf2061-35b7-4677-d589-9f117fbbbdcb"
      },
      "source": [
        "# Print the path of file\n",
        "\n",
        "HWfile.name"
      ],
      "execution_count": 27,
      "outputs": [
        {
          "output_type": "execute_result",
          "data": {
            "text/plain": [
              "'/content/gdrive/My Drive/HW7/HW7_1.txt'"
            ],
            "application/vnd.google.colaboratory.intrinsic+json": {
              "type": "string"
            }
          },
          "metadata": {},
          "execution_count": 27
        }
      ]
    },
    {
      "cell_type": "code",
      "metadata": {
        "id": "e1aO2Qp-YI0X",
        "colab": {
          "base_uri": "https://localhost:8080/",
          "height": 35
        },
        "outputId": "ce0ea388-e69b-41d4-b348-7316d2efa309"
      },
      "source": [
        "# Print the mode of file, either 'r' or 'w'\n",
        "\n",
        "HWfile.mode"
      ],
      "execution_count": 28,
      "outputs": [
        {
          "output_type": "execute_result",
          "data": {
            "text/plain": [
              "'r'"
            ],
            "application/vnd.google.colaboratory.intrinsic+json": {
              "type": "string"
            }
          },
          "metadata": {},
          "execution_count": 28
        }
      ]
    },
    {
      "cell_type": "code",
      "metadata": {
        "id": "S_DjlFFcYI0b",
        "colab": {
          "base_uri": "https://localhost:8080/",
          "height": 35
        },
        "outputId": "1f2304da-845b-481e-d8d3-154536a19629"
      },
      "source": [
        "# Read the file\n",
        "\n",
        "Filelements = HWfile.read()\n",
        "Filelements"
      ],
      "execution_count": 29,
      "outputs": [
        {
          "output_type": "execute_result",
          "data": {
            "text/plain": [
              "'I can do it\\nJust do it\\nAlways do it\\nHave passion\\n\\nFighting\\n\\n\\n'"
            ],
            "application/vnd.google.colaboratory.intrinsic+json": {
              "type": "string"
            }
          },
          "metadata": {},
          "execution_count": 29
        }
      ]
    },
    {
      "cell_type": "code",
      "metadata": {
        "id": "H7ttKTIhYI0e",
        "colab": {
          "base_uri": "https://localhost:8080/"
        },
        "outputId": "0987babb-182d-4066-f9f3-9b3eb53e01ed"
      },
      "source": [
        "# Print the file with '\\n' as a new line\n",
        "\n",
        "print(Filelements)"
      ],
      "execution_count": 30,
      "outputs": [
        {
          "output_type": "stream",
          "name": "stdout",
          "text": [
            "I can do it\n",
            "Just do it\n",
            "Always do it\n",
            "Have passion\n",
            "\n",
            "Fighting\n",
            "\n",
            "\n",
            "\n"
          ]
        }
      ]
    },
    {
      "cell_type": "code",
      "metadata": {
        "id": "JqhDnmIxYI0h",
        "colab": {
          "base_uri": "https://localhost:8080/"
        },
        "outputId": "3e160d22-1bc1-4bce-ee6b-0b01b0cc647f"
      },
      "source": [
        "# Type of file content\n",
        "\n",
        "type(Filelements)"
      ],
      "execution_count": 31,
      "outputs": [
        {
          "output_type": "execute_result",
          "data": {
            "text/plain": [
              "str"
            ]
          },
          "metadata": {},
          "execution_count": 31
        }
      ]
    },
    {
      "cell_type": "code",
      "metadata": {
        "id": "_bJAhDCnYI0l"
      },
      "source": [
        "# Close file after finish\n",
        "\n",
        "HWfile.close()"
      ],
      "execution_count": 32,
      "outputs": []
    },
    {
      "cell_type": "markdown",
      "metadata": {
        "id": "j3G2q17aYI0o"
      },
      "source": [
        "<h2 id=\"better\">A Better Way to Open a File</h2>"
      ]
    },
    {
      "cell_type": "code",
      "metadata": {
        "id": "C51ZuarpYI0p",
        "colab": {
          "base_uri": "https://localhost:8080/"
        },
        "outputId": "fa24c62c-4689-4806-80a4-01e10a797e6b"
      },
      "source": [
        "# Open file using with\n",
        "\n",
        "with open(HW7, \"r\") as HWfile:\n",
        "    Filelements = HWfile.read()\n",
        "    print(Filelements)"
      ],
      "execution_count": 34,
      "outputs": [
        {
          "output_type": "stream",
          "name": "stdout",
          "text": [
            "I can do it\n",
            "Just do it\n",
            "Always do it\n",
            "Have passion\n",
            "\n",
            "Fighting\n",
            "\n",
            "\n",
            "\n"
          ]
        }
      ]
    },
    {
      "cell_type": "code",
      "metadata": {
        "id": "JemmW1YvYI0r",
        "colab": {
          "base_uri": "https://localhost:8080/"
        },
        "outputId": "c38de3a2-e855-46ba-9239-08733e9afa1d"
      },
      "source": [
        "# Verify if the file is closed\n",
        "\n",
        "HWfile.closed"
      ],
      "execution_count": 35,
      "outputs": [
        {
          "output_type": "execute_result",
          "data": {
            "text/plain": [
              "True"
            ]
          },
          "metadata": {},
          "execution_count": 35
        }
      ]
    },
    {
      "cell_type": "code",
      "metadata": {
        "id": "0ohNCnLxYI0v",
        "colab": {
          "base_uri": "https://localhost:8080/"
        },
        "outputId": "0729436f-24f3-460e-ac8f-12e33a1d6805"
      },
      "source": [
        "# See the content of file\n",
        "\n",
        "print(Filelements)"
      ],
      "execution_count": 36,
      "outputs": [
        {
          "output_type": "stream",
          "name": "stdout",
          "text": [
            "I can do it\n",
            "Just do it\n",
            "Always do it\n",
            "Have passion\n",
            "\n",
            "Fighting\n",
            "\n",
            "\n",
            "\n"
          ]
        }
      ]
    },
    {
      "cell_type": "code",
      "metadata": {
        "id": "ezc4FOeOYI0z",
        "colab": {
          "base_uri": "https://localhost:8080/"
        },
        "outputId": "80f68429-616c-4e78-a1bb-f77867f4bc27"
      },
      "source": [
        "# Read first four characters\n",
        "\n",
        "with open(HW7, \"r\") as HWfile:\n",
        "    print(HWfile.read(4))"
      ],
      "execution_count": 38,
      "outputs": [
        {
          "output_type": "stream",
          "name": "stdout",
          "text": [
            "I ca\n"
          ]
        }
      ]
    },
    {
      "cell_type": "code",
      "metadata": {
        "id": "WVpo44aPYI02",
        "colab": {
          "base_uri": "https://localhost:8080/"
        },
        "outputId": "b93e8c58-388d-4bce-92d5-661b2abe1455"
      },
      "source": [
        "# Read certain amount of characters\n",
        "\n",
        "with open(HW7, \"r\") as HWfile:\n",
        "    print(HWfile.read(4))\n",
        "    print(HWfile.read(4))\n",
        "    print(HWfile.read(7))\n",
        "    print(HWfile.read(15))"
      ],
      "execution_count": 41,
      "outputs": [
        {
          "output_type": "stream",
          "name": "stdout",
          "text": [
            "I ca\n",
            "n do\n",
            " it\n",
            "Jus\n",
            "t do it\n",
            "Always \n"
          ]
        }
      ]
    },
    {
      "cell_type": "code",
      "metadata": {
        "id": "-PHG33WRYI05",
        "colab": {
          "base_uri": "https://localhost:8080/"
        },
        "outputId": "ceb823b5-af39-4485-915a-574d78d534ba"
      },
      "source": [
        "# Read certain amount of characters\n",
        "\n",
        "with open(HW7, \"r\") as HWfile:\n",
        "    print(HWfile.read(16))\n",
        "    print(HWfile.read(5))\n",
        "    print(HWfile.read(9))"
      ],
      "execution_count": 42,
      "outputs": [
        {
          "output_type": "stream",
          "name": "stdout",
          "text": [
            "I can do it\n",
            "Just\n",
            " do i\n",
            "t\n",
            "Always \n"
          ]
        }
      ]
    },
    {
      "cell_type": "code",
      "metadata": {
        "id": "6sAU9-cZYI07",
        "colab": {
          "base_uri": "https://localhost:8080/"
        },
        "outputId": "af376281-a6f4-431a-ef66-9f9a3e46b423"
      },
      "source": [
        "# Read one line\n",
        "\n",
        "with open(HW7, \"r\") as HWfile:\n",
        "    print(\"first line: \" + HWfile.readline())\n",
        "    print(\"second line: \" + HWfile.readline())\n",
        "    print(\"third line: \" + HWfile.readline())"
      ],
      "execution_count": 43,
      "outputs": [
        {
          "output_type": "stream",
          "name": "stdout",
          "text": [
            "first line: I can do it\n",
            "\n",
            "second line: Just do it\n",
            "\n",
            "third line: Always do it\n",
            "\n"
          ]
        }
      ]
    },
    {
      "cell_type": "code",
      "metadata": {
        "id": "icC5CUvgYI0-",
        "colab": {
          "base_uri": "https://localhost:8080/"
        },
        "outputId": "2583dfa7-d248-4b47-8969-cf8211bdf9ec"
      },
      "source": [
        "# Iterate through the lines\n",
        "\n",
        "with open(HW7, \"r\") as HWfile:\n",
        "        i = 0;\n",
        "        for line in HWfile:\n",
        "            print(\"Iteration\", str(i), \": \", line)\n",
        "            i = i + 1;"
      ],
      "execution_count": 44,
      "outputs": [
        {
          "output_type": "stream",
          "name": "stdout",
          "text": [
            "Iteration 0 :  I can do it\n",
            "\n",
            "Iteration 1 :  Just do it\n",
            "\n",
            "Iteration 2 :  Always do it\n",
            "\n",
            "Iteration 3 :  Have passion\n",
            "\n",
            "Iteration 4 :  \n",
            "\n",
            "Iteration 5 :  Fighting\n",
            "\n",
            "Iteration 6 :  \n",
            "\n",
            "Iteration 7 :  \n",
            "\n"
          ]
        }
      ]
    },
    {
      "cell_type": "code",
      "metadata": {
        "id": "5sw7At23YI1A"
      },
      "source": [
        "# Read all lines and save as a list\n",
        "\n",
        "with open(HW7, \"r\") as HWfile:\n",
        "    FileasList = HWfile.readlines()"
      ],
      "execution_count": 45,
      "outputs": []
    },
    {
      "cell_type": "code",
      "metadata": {
        "id": "06c1c6K0YI1D",
        "colab": {
          "base_uri": "https://localhost:8080/",
          "height": 35
        },
        "outputId": "12057e78-c58d-46aa-f657-dd9701e17b2e"
      },
      "source": [
        "# Print the first line\n",
        "\n",
        "FileasList[0]"
      ],
      "execution_count": 46,
      "outputs": [
        {
          "output_type": "execute_result",
          "data": {
            "text/plain": [
              "'I can do it\\n'"
            ],
            "application/vnd.google.colaboratory.intrinsic+json": {
              "type": "string"
            }
          },
          "metadata": {},
          "execution_count": 46
        }
      ]
    },
    {
      "cell_type": "code",
      "metadata": {
        "id": "0H4Pw_LXYI1G",
        "colab": {
          "base_uri": "https://localhost:8080/",
          "height": 35
        },
        "outputId": "b58f5f0d-e308-4d3d-a271-50ea7df088a4"
      },
      "source": [
        "# Print the second line\n",
        "\n",
        "FileasList[1]"
      ],
      "execution_count": 47,
      "outputs": [
        {
          "output_type": "execute_result",
          "data": {
            "text/plain": [
              "'Just do it\\n'"
            ],
            "application/vnd.google.colaboratory.intrinsic+json": {
              "type": "string"
            }
          },
          "metadata": {},
          "execution_count": 47
        }
      ]
    },
    {
      "cell_type": "code",
      "metadata": {
        "id": "TxBaR_CuYI1I",
        "colab": {
          "base_uri": "https://localhost:8080/",
          "height": 35
        },
        "outputId": "5a010a10-fd4c-41a2-bf56-b6890efbefe4"
      },
      "source": [
        "# Print the third line\n",
        "\n",
        "FileasList[2]"
      ],
      "execution_count": 48,
      "outputs": [
        {
          "output_type": "execute_result",
          "data": {
            "text/plain": [
              "'Always do it\\n'"
            ],
            "application/vnd.google.colaboratory.intrinsic+json": {
              "type": "string"
            }
          },
          "metadata": {},
          "execution_count": 48
        }
      ]
    },
    {
      "cell_type": "code",
      "source": [
        "FileasList[3]"
      ],
      "metadata": {
        "id": "Hlrlyf2Ln4I_",
        "outputId": "bcbc2f20-05b2-48bd-fd0c-f8ff08209d05",
        "colab": {
          "base_uri": "https://localhost:8080/",
          "height": 35
        }
      },
      "execution_count": 49,
      "outputs": [
        {
          "output_type": "execute_result",
          "data": {
            "text/plain": [
              "'Have passion\\n'"
            ],
            "application/vnd.google.colaboratory.intrinsic+json": {
              "type": "string"
            }
          },
          "metadata": {},
          "execution_count": 49
        }
      ]
    },
    {
      "cell_type": "code",
      "source": [
        "FileasList[4]"
      ],
      "metadata": {
        "id": "NiyuD32Tn66I",
        "outputId": "ba796267-69a5-4bfe-8ea1-df4dce027d31",
        "colab": {
          "base_uri": "https://localhost:8080/",
          "height": 35
        }
      },
      "execution_count": 51,
      "outputs": [
        {
          "output_type": "execute_result",
          "data": {
            "text/plain": [
              "'\\n'"
            ],
            "application/vnd.google.colaboratory.intrinsic+json": {
              "type": "string"
            }
          },
          "metadata": {},
          "execution_count": 51
        }
      ]
    },
    {
      "cell_type": "code",
      "source": [
        "FileasList[5]"
      ],
      "metadata": {
        "outputId": "d23ae639-2ebe-4428-b920-fd224c66fe9c",
        "colab": {
          "base_uri": "https://localhost:8080/",
          "height": 35
        },
        "id": "4VarL7W-XOWI"
      },
      "execution_count": 52,
      "outputs": [
        {
          "output_type": "execute_result",
          "data": {
            "text/plain": [
              "'Fighting\\n'"
            ],
            "application/vnd.google.colaboratory.intrinsic+json": {
              "type": "string"
            }
          },
          "metadata": {},
          "execution_count": 52
        }
      ]
    }
  ]
}