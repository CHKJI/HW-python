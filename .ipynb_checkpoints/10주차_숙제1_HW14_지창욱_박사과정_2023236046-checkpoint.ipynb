{
 "cells": [
  {
   "cell_type": "code",
   "execution_count": 1,
   "id": "ce45686d",
   "metadata": {},
   "outputs": [],
   "source": [
    "# 10주차_숙제1_HW14_지창욱_박사과정_2023236046"
   ]
  },
  {
   "cell_type": "code",
   "execution_count": 5,
   "id": "8ce57fb9",
   "metadata": {},
   "outputs": [
    {
     "name": "stdout",
     "output_type": "stream",
     "text": [
      "3\n",
      "7\n"
     ]
    }
   ],
   "source": [
    "#계산기 더하기 기능 실습\n",
    "\n",
    "result = 0\n",
    "def adder (num): \n",
    "    global result\n",
    "    result += num\n",
    "    return result\n",
    "\n",
    "print (adder (3))\n",
    "print (adder (4))"
   ]
  },
  {
   "cell_type": "code",
   "execution_count": 6,
   "id": "7d13e841",
   "metadata": {},
   "outputs": [
    {
     "name": "stdout",
     "output_type": "stream",
     "text": [
      "11\n"
     ]
    }
   ],
   "source": [
    "In [4]: print(adder (4))"
   ]
  },
  {
   "cell_type": "code",
   "execution_count": 4,
   "id": "fc84834c",
   "metadata": {},
   "outputs": [
    {
     "name": "stdout",
     "output_type": "stream",
     "text": [
      "16\n"
     ]
    }
   ],
   "source": [
    "In [5]: print(adder (5))"
   ]
  },
  {
   "cell_type": "code",
   "execution_count": 9,
   "id": "4d393977",
   "metadata": {},
   "outputs": [],
   "source": [
    "# 만약 계산기가 두 개 필요하다면? 실습\n",
    "result1 = 0 \n",
    "result2 = 0\n",
    "\n",
    "def adder1 (num):\n",
    "    global result1\n",
    "    result1 += num\n",
    "    return result1\n",
    "\n",
    "def adder2(num):\n",
    "    global result2\n",
    "    result2 += num\n",
    "    return result2"
   ]
  },
  {
   "cell_type": "code",
   "execution_count": 10,
   "id": "78556455",
   "metadata": {},
   "outputs": [
    {
     "name": "stdout",
     "output_type": "stream",
     "text": [
      "3\n",
      "7\n",
      "3\n",
      "10\n"
     ]
    }
   ],
   "source": [
    "print (adder1(3))\n",
    "print (adder1(4))\n",
    "print (adder2(3))\n",
    "print (adder2(7))"
   ]
  },
  {
   "cell_type": "code",
   "execution_count": 11,
   "id": "dfbfea0a",
   "metadata": {},
   "outputs": [],
   "source": [
    "# 계산기가 여러 개가 필요하다면? 실습\n",
    "\n",
    "class Calculator: \n",
    "    def __init__(self):\n",
    "        self.result = 0\n",
    "        \n",
    "    def adder(self, num): \n",
    "        self.result += num \n",
    "        return self.result\n",
    "    \n",
    "cal1 = Calculator()\n",
    "\n",
    "cal2 = Calculator()\n",
    "\n"
   ]
  },
  {
   "cell_type": "code",
   "execution_count": 13,
   "id": "952be73c",
   "metadata": {},
   "outputs": [
    {
     "name": "stdout",
     "output_type": "stream",
     "text": [
      "3\n",
      "7\n",
      "3\n",
      "10\n"
     ]
    }
   ],
   "source": [
    "print(cal1.adder(3))\n",
    "print(cal1.adder (4))\n",
    "print(cal2.adder (3))\n",
    "print(cal2.adder(7))"
   ]
  },
  {
   "cell_type": "code",
   "execution_count": 15,
   "id": "99b9e333",
   "metadata": {},
   "outputs": [],
   "source": [
    "# 사칙연산 클래스 실습\n",
    "class FourCal:\n",
    "    def setdata(self, first, second):\n",
    "        self.first = first\n",
    "        self.second = second\n",
    "    def sum(self):\n",
    "        result = self.first + self.second \n",
    "        return result\n",
    "    def mul(self):\n",
    "        result = self.first * self.second\n",
    "        return result\n",
    "    def sub(self):\n",
    "        result = self.first - self.second\n",
    "        return result\n",
    "    def div(self):\n",
    "        result = self.first / self.second\n",
    "        return result\n"
   ]
  },
  {
   "cell_type": "code",
   "execution_count": 16,
   "id": "f045286d",
   "metadata": {},
   "outputs": [],
   "source": [
    "a=FourCal()"
   ]
  },
  {
   "cell_type": "code",
   "execution_count": 17,
   "id": "d6807a8a",
   "metadata": {},
   "outputs": [],
   "source": [
    "b=FourCal()"
   ]
  },
  {
   "cell_type": "code",
   "execution_count": 18,
   "id": "fb61fbb3",
   "metadata": {},
   "outputs": [],
   "source": [
    "a.setdata(4,2)"
   ]
  },
  {
   "cell_type": "code",
   "execution_count": 19,
   "id": "bab8e2db",
   "metadata": {},
   "outputs": [],
   "source": [
    "b.setdata(3,7)"
   ]
  },
  {
   "cell_type": "code",
   "execution_count": 20,
   "id": "cff26982",
   "metadata": {},
   "outputs": [
    {
     "data": {
      "text/plain": [
       "6"
      ]
     },
     "execution_count": 20,
     "metadata": {},
     "output_type": "execute_result"
    }
   ],
   "source": [
    "a.sum()"
   ]
  },
  {
   "cell_type": "code",
   "execution_count": 21,
   "id": "50713813",
   "metadata": {},
   "outputs": [
    {
     "data": {
      "text/plain": [
       "8"
      ]
     },
     "execution_count": 21,
     "metadata": {},
     "output_type": "execute_result"
    }
   ],
   "source": [
    "a.mul()"
   ]
  },
  {
   "cell_type": "code",
   "execution_count": 22,
   "id": "61e23131",
   "metadata": {},
   "outputs": [
    {
     "data": {
      "text/plain": [
       "2"
      ]
     },
     "execution_count": 22,
     "metadata": {},
     "output_type": "execute_result"
    }
   ],
   "source": [
    "a.sub()"
   ]
  },
  {
   "cell_type": "code",
   "execution_count": 23,
   "id": "f85d72d5",
   "metadata": {},
   "outputs": [
    {
     "data": {
      "text/plain": [
       "2.0"
      ]
     },
     "execution_count": 23,
     "metadata": {},
     "output_type": "execute_result"
    }
   ],
   "source": [
    "a.div()"
   ]
  },
  {
   "cell_type": "code",
   "execution_count": 24,
   "id": "dc3be1ee",
   "metadata": {},
   "outputs": [
    {
     "data": {
      "text/plain": [
       "-4"
      ]
     },
     "execution_count": 24,
     "metadata": {},
     "output_type": "execute_result"
    }
   ],
   "source": [
    "b.sub()"
   ]
  },
  {
   "cell_type": "code",
   "execution_count": 26,
   "id": "48bd6045",
   "metadata": {},
   "outputs": [
    {
     "name": "stdout",
     "output_type": "stream",
     "text": [
      "Player 1 rolled[6, 1, 4]\n",
      "Player 2 rolled[2, 3, 5]\n",
      "Player 1 wins\n"
     ]
    }
   ],
   "source": [
    "# Class example\n",
    "# 간단한 주사위 게임 – 순차적 프로그래밍 실습\n",
    "\n",
    "import random \n",
    "player1_dice = [] \n",
    "player2_dice = []\n",
    "\n",
    "for i in range(3):\n",
    "    player1_dice.append(random.randint(1, 6))\n",
    "    player2_dice.append(random.randint(1, 6))\n",
    "    \n",
    "print(\"Player 1 rolled\" + str(player1_dice)) \n",
    "print(\"Player 2 rolled\" + str(player2_dice))\n",
    "\n",
    "if sum(player1_dice)==sum(player2_dice):\n",
    "    print(\"Draw\")\n",
    "    \n",
    "elif sum(player1_dice) > sum(player2_dice):\n",
    "    print(\"Player 1 wins\")  \n",
    "else:\n",
    "    print(\"Player 2 wins\")\n",
    "\n"
   ]
  },
  {
   "cell_type": "code",
   "execution_count": 29,
   "id": "6c736186",
   "metadata": {},
   "outputs": [
    {
     "name": "stdout",
     "output_type": "stream",
     "text": [
      "Player 1 rolled[3, 1, 2]\n",
      "Player 2 rolled[3, 1, 6]\n",
      "Player 2 wins!\n"
     ]
    }
   ],
   "source": [
    "# 간단한 주사위 게임 – OOP 실습\n",
    "\n",
    "from random import randint\n",
    "\n",
    "class Player:\n",
    "    def __init__(self): \n",
    "        self.dice = []\n",
    "        \n",
    "    def roll(self):\n",
    "        self.dice = [] \n",
    "        for i in range(3):\n",
    "            self.dice.append(randint(1, 6))    \n",
    "        \n",
    "    def get_dice(self):\n",
    "        return self.dice\n",
    "    \n",
    "player1 = Player() \n",
    "player2 = Player()\n",
    "\n",
    "player1.roll()\n",
    "player2.roll()\n",
    "\n",
    "print(\"Player 1 rolled\" + str(player1.get_dice())) \n",
    "print(\"Player 2 rolled\" + str(player2.get_dice()))\n",
    "\n",
    "if sum(player1.get_dice()) ==sum(player2.get_dice()): \n",
    "    print(\"Draw!\")\n",
    "elif sum(player1.get_dice()) > sum(player2.get_dice()): \n",
    "    print(\"Player 1 wins!\")\n",
    "else:\n",
    "    print(\"Player 2 wins!\")"
   ]
  },
  {
   "cell_type": "code",
   "execution_count": null,
   "id": "d11caf1f",
   "metadata": {},
   "outputs": [],
   "source": [
    "# 은행 거래 – 고객 클래스 실습\n",
    "\n",
    "\n",
    "class Customer(object):\n",
    "\n",
    "\n",
    "def __init__(self,name):\n",
    "    self.name = name\n",
    "    \n",
    "def set_balance (self, balance=0.0):\n",
    "    self.balance = balance\n",
    "    \n",
    "def withdraw(self, amount):\n",
    "    if amount > self.balance:\n",
    "        raise RuntimeError('Amount greater than available balance.') \n",
    "    self.balance = amount\n",
    "    return self.balance\n",
    "\n",
    "def deposit(self, amount):\n",
    "    self.balance += amount\n",
    "    return self.balance"
   ]
  }
 ],
 "metadata": {
  "kernelspec": {
   "display_name": "Python 3 (ipykernel)",
   "language": "python",
   "name": "python3"
  },
  "language_info": {
   "codemirror_mode": {
    "name": "ipython",
    "version": 3
   },
   "file_extension": ".py",
   "mimetype": "text/x-python",
   "name": "python",
   "nbconvert_exporter": "python",
   "pygments_lexer": "ipython3",
   "version": "3.11.4"
  }
 },
 "nbformat": 4,
 "nbformat_minor": 5
}
